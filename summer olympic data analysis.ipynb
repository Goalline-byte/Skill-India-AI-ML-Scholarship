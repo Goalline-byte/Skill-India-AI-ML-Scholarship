{
  "nbformat": 4,
  "nbformat_minor": 5,
  "metadata": {
    "kernelspec": {
      "display_name": "Python 3",
      "language": "python",
      "name": "python3"
    },
    "language_info": {
      "codemirror_mode": {
        "name": "ipython",
        "version": 3
      },
      "file_extension": ".py",
      "mimetype": "text/x-python",
      "name": "python",
      "nbconvert_exporter": "python",
      "pygments_lexer": "ipython3",
      "version": "3.8.8"
    },
    "colab": {
      "name": "summer.ipynb",
      "provenance": [],
      "collapsed_sections": []
    }
  },
  "cells": [
    {
      "cell_type": "code",
      "metadata": {
        "id": "ftPBaMZj0J7x"
      },
      "source": [
        "import pandas as pd"
      ],
      "id": "ftPBaMZj0J7x",
      "execution_count": null,
      "outputs": []
    },
    {
      "cell_type": "code",
      "metadata": {
        "id": "dhXOou_30J71",
        "outputId": "4ca9f904-1cfe-424a-a2dc-bcd8fc9e2497"
      },
      "source": [
        "df = pd.read_csv('summer.csv')\n",
        "df.head()"
      ],
      "id": "dhXOou_30J71",
      "execution_count": null,
      "outputs": [
        {
          "output_type": "execute_result",
          "data": {
            "text/plain": [
              "   Year    City     Sport Discipline             Athlete Country Gender  \\\n",
              "0  1896  Athens  Aquatics   Swimming       HAJOS, Alfred     HUN    Men   \n",
              "1  1896  Athens  Aquatics   Swimming    HERSCHMANN, Otto     AUT    Men   \n",
              "2  1896  Athens  Aquatics   Swimming   DRIVAS, Dimitrios     GRE    Men   \n",
              "3  1896  Athens  Aquatics   Swimming  MALOKINIS, Ioannis     GRE    Men   \n",
              "4  1896  Athens  Aquatics   Swimming  CHASAPIS, Spiridon     GRE    Men   \n",
              "\n",
              "                        Event   Medal  \n",
              "0              100M Freestyle    Gold  \n",
              "1              100M Freestyle  Silver  \n",
              "2  100M Freestyle For Sailors  Bronze  \n",
              "3  100M Freestyle For Sailors    Gold  \n",
              "4  100M Freestyle For Sailors  Silver  "
            ],
            "text/html": [
              "<div>\n",
              "<style scoped>\n",
              "    .dataframe tbody tr th:only-of-type {\n",
              "        vertical-align: middle;\n",
              "    }\n",
              "\n",
              "    .dataframe tbody tr th {\n",
              "        vertical-align: top;\n",
              "    }\n",
              "\n",
              "    .dataframe thead th {\n",
              "        text-align: right;\n",
              "    }\n",
              "</style>\n",
              "<table border=\"1\" class=\"dataframe\">\n",
              "  <thead>\n",
              "    <tr style=\"text-align: right;\">\n",
              "      <th></th>\n",
              "      <th>Year</th>\n",
              "      <th>City</th>\n",
              "      <th>Sport</th>\n",
              "      <th>Discipline</th>\n",
              "      <th>Athlete</th>\n",
              "      <th>Country</th>\n",
              "      <th>Gender</th>\n",
              "      <th>Event</th>\n",
              "      <th>Medal</th>\n",
              "    </tr>\n",
              "  </thead>\n",
              "  <tbody>\n",
              "    <tr>\n",
              "      <th>0</th>\n",
              "      <td>1896</td>\n",
              "      <td>Athens</td>\n",
              "      <td>Aquatics</td>\n",
              "      <td>Swimming</td>\n",
              "      <td>HAJOS, Alfred</td>\n",
              "      <td>HUN</td>\n",
              "      <td>Men</td>\n",
              "      <td>100M Freestyle</td>\n",
              "      <td>Gold</td>\n",
              "    </tr>\n",
              "    <tr>\n",
              "      <th>1</th>\n",
              "      <td>1896</td>\n",
              "      <td>Athens</td>\n",
              "      <td>Aquatics</td>\n",
              "      <td>Swimming</td>\n",
              "      <td>HERSCHMANN, Otto</td>\n",
              "      <td>AUT</td>\n",
              "      <td>Men</td>\n",
              "      <td>100M Freestyle</td>\n",
              "      <td>Silver</td>\n",
              "    </tr>\n",
              "    <tr>\n",
              "      <th>2</th>\n",
              "      <td>1896</td>\n",
              "      <td>Athens</td>\n",
              "      <td>Aquatics</td>\n",
              "      <td>Swimming</td>\n",
              "      <td>DRIVAS, Dimitrios</td>\n",
              "      <td>GRE</td>\n",
              "      <td>Men</td>\n",
              "      <td>100M Freestyle For Sailors</td>\n",
              "      <td>Bronze</td>\n",
              "    </tr>\n",
              "    <tr>\n",
              "      <th>3</th>\n",
              "      <td>1896</td>\n",
              "      <td>Athens</td>\n",
              "      <td>Aquatics</td>\n",
              "      <td>Swimming</td>\n",
              "      <td>MALOKINIS, Ioannis</td>\n",
              "      <td>GRE</td>\n",
              "      <td>Men</td>\n",
              "      <td>100M Freestyle For Sailors</td>\n",
              "      <td>Gold</td>\n",
              "    </tr>\n",
              "    <tr>\n",
              "      <th>4</th>\n",
              "      <td>1896</td>\n",
              "      <td>Athens</td>\n",
              "      <td>Aquatics</td>\n",
              "      <td>Swimming</td>\n",
              "      <td>CHASAPIS, Spiridon</td>\n",
              "      <td>GRE</td>\n",
              "      <td>Men</td>\n",
              "      <td>100M Freestyle For Sailors</td>\n",
              "      <td>Silver</td>\n",
              "    </tr>\n",
              "  </tbody>\n",
              "</table>\n",
              "</div>"
            ]
          },
          "metadata": {},
          "execution_count": 4
        }
      ]
    },
    {
      "cell_type": "code",
      "metadata": {
        "id": "F1UCp5LQ0QSe"
      },
      "source": [
        ""
      ],
      "id": "F1UCp5LQ0QSe",
      "execution_count": null,
      "outputs": []
    },
    {
      "cell_type": "markdown",
      "metadata": {
        "id": "4x9gZuL90J73"
      },
      "source": [
        "1.In how many cities Summer Olympics is held so far?"
      ],
      "id": "4x9gZuL90J73"
    },
    {
      "cell_type": "code",
      "metadata": {
        "id": "2-oHDXGa0J75",
        "outputId": "e597f643-85bc-47c0-d489-b6ca9655e1ab"
      },
      "source": [
        "len(df['City'].unique())"
      ],
      "id": "2-oHDXGa0J75",
      "execution_count": null,
      "outputs": [
        {
          "output_type": "execute_result",
          "data": {
            "text/plain": [
              "22"
            ]
          },
          "metadata": {},
          "execution_count": 51
        }
      ]
    },
    {
      "cell_type": "markdown",
      "metadata": {
        "id": "72fjxpst0J75"
      },
      "source": [
        "2.Which sport is having most number of Gold Medals so far?(Top 5)"
      ],
      "id": "72fjxpst0J75"
    },
    {
      "cell_type": "code",
      "metadata": {
        "id": "r8C7cBsN0J76",
        "outputId": "2eed14cc-a06c-43a7-c143-980d92d7f5a2"
      },
      "source": [
        "df2 = df[df['Medal'] == 'Gold']\n",
        "print(df2.groupby('Sport').count()['Medal'].sort_values(ascending=False).head())\n",
        "df2.groupby('Sport').count()['Medal'].sort_values(ascending=False).head().plot.bar(figsize=(7,3))"
      ],
      "id": "r8C7cBsN0J76",
      "execution_count": null,
      "outputs": [
        {
          "output_type": "stream",
          "name": "stdout",
          "text": [
            "Sport\n",
            "Aquatics      1421\n",
            "Athletics     1215\n",
            "Rowing         890\n",
            "Gymnastics     820\n",
            "Fencing        552\n",
            "Name: Medal, dtype: int64\n"
          ]
        },
        {
          "output_type": "execute_result",
          "data": {
            "text/plain": [
              "<AxesSubplot:xlabel='Sport'>"
            ]
          },
          "metadata": {},
          "execution_count": 52
        },
        {
          "output_type": "display_data",
          "data": {
            "text/plain": [
              "<Figure size 504x216 with 1 Axes>"
            ],
            "image/png": "[encoded data removed]"
          },
          "metadata": {
            "needs_background": "light"
          }
        }
      ]
    },
    {
      "cell_type": "markdown",
      "metadata": {
        "id": "SYViSBtE0J78"
      },
      "source": [
        "3.Which sport is having most number of medals so far?(Top 5)"
      ],
      "id": "SYViSBtE0J78"
    },
    {
      "cell_type": "code",
      "metadata": {
        "id": "PA88dW8q0J79",
        "outputId": "87fa0b0b-a6a2-41eb-9aff-2271acc6b756"
      },
      "source": [
        "print(df.groupby('Sport').count()['Medal'].sort_values(ascending= False).head())\n",
        "df.groupby('Sport').count()['Medal'].sort_values(ascending= False).head().plot.bar(figsize=(8,5))"
      ],
      "id": "PA88dW8q0J79",
      "execution_count": null,
      "outputs": [
        {
          "output_type": "stream",
          "name": "stdout",
          "text": [
            "Sport\n",
            "Aquatics      4170\n",
            "Athletics     3638\n",
            "Rowing        2667\n",
            "Gymnastics    2307\n",
            "Fencing       1613\n",
            "Name: Medal, dtype: int64\n"
          ]
        },
        {
          "output_type": "execute_result",
          "data": {
            "text/plain": [
              "<AxesSubplot:xlabel='Sport'>"
            ]
          },
          "metadata": {},
          "execution_count": 53
        },
        {
          "output_type": "display_data",
          "data": {
            "text/plain": [
              "<Figure size 576x360 with 1 Axes>"
            ],
            "image/png": "[encoded data removed]"
          },
          "metadata": {
            "needs_background": "light"
          }
        }
      ]
    },
    {
      "cell_type": "markdown",
      "metadata": {
        "id": "lijx_7Cc0J7-"
      },
      "source": [
        "4.Which player has won most number of medals?(Top 5)"
      ],
      "id": "lijx_7Cc0J7-"
    },
    {
      "cell_type": "code",
      "metadata": {
        "id": "akwZzcgk0J7_",
        "outputId": "e5f8b7ec-0fbe-4442-9587-03710d60252f"
      },
      "source": [
        "print(df.groupby('Athlete').count()['Medal'].sort_values(ascending=False).head())\n",
        "df.groupby('Athlete').count()['Medal'].sort_values(ascending=False).head().plot.bar(figsize=(8,5))"
      ],
      "id": "akwZzcgk0J7_",
      "execution_count": null,
      "outputs": [
        {
          "output_type": "stream",
          "name": "stdout",
          "text": [
            "Athlete\n",
            "PHELPS, Michael         22\n",
            "LATYNINA, Larisa        18\n",
            "ANDRIANOV, Nikolay      15\n",
            "MANGIAROTTI, Edoardo    13\n",
            "ONO, Takashi            13\n",
            "Name: Medal, dtype: int64\n"
          ]
        },
        {
          "output_type": "execute_result",
          "data": {
            "text/plain": [
              "<AxesSubplot:xlabel='Athlete'>"
            ]
          },
          "metadata": {},
          "execution_count": 54
        },
        {
          "output_type": "display_data",
          "data": {
            "text/plain": [
              "<Figure size 576x360 with 1 Axes>"
            ],
            "image/png": "[encoded data removed]"
          },
          "metadata": {
            "needs_background": "light"
          }
        }
      ]
    },
    {
      "cell_type": "markdown",
      "metadata": {
        "id": "rKnuMT5G0J8A"
      },
      "source": [
        "5.which player has won most number of gold medals of medals? (Top 5)"
      ],
      "id": "rKnuMT5G0J8A"
    },
    {
      "cell_type": "code",
      "metadata": {
        "id": "48OE1VAe0J8A",
        "outputId": "fc4f0280-f536-48d6-ae98-e14d38b92a87"
      },
      "source": [
        "df3 = df[df['Medal'] == 'Gold']\n",
        "print(df3.groupby('Athlete').count()['Medal'].sort_values(ascending=False).head())\n",
        "df3.groupby('Athlete').count()['Medal'].sort_values(ascending=False).head().plot.bar(figsize=(8,5))"
      ],
      "id": "48OE1VAe0J8A",
      "execution_count": null,
      "outputs": [
        {
          "output_type": "stream",
          "name": "stdout",
          "text": [
            "Athlete\n",
            "PHELPS, Michael     18\n",
            "LEWIS, Carl          9\n",
            "NURMI, Paavo         9\n",
            "SPITZ, Mark          9\n",
            "LATYNINA, Larisa     9\n",
            "Name: Medal, dtype: int64\n"
          ]
        },
        {
          "output_type": "execute_result",
          "data": {
            "text/plain": [
              "<AxesSubplot:xlabel='Athlete'>"
            ]
          },
          "metadata": {},
          "execution_count": 56
        },
        {
          "output_type": "display_data",
          "data": {
            "text/plain": [
              "<Figure size 576x360 with 1 Axes>"
            ],
            "image/png": "[encoded data removed]"
          },
          "metadata": {
            "needs_background": "light"
          }
        }
      ]
    },
    {
      "cell_type": "markdown",
      "metadata": {
        "id": "LTltfKyq0J8B"
      },
      "source": [
        "6.In which year india won first Gold Medal in Summer Olympics?"
      ],
      "id": "LTltfKyq0J8B"
    },
    {
      "cell_type": "code",
      "metadata": {
        "id": "6eNGSjbc0J8B",
        "outputId": "71b4180f-be23-4962-f6fa-f15c752f5cfe"
      },
      "source": [
        "df[(df['Medal'] == 'Gold') & (df['Country']=='IND')].iloc[0][0]"
      ],
      "id": "6eNGSjbc0J8B",
      "execution_count": null,
      "outputs": [
        {
          "output_type": "execute_result",
          "data": {
            "text/plain": [
              "1928"
            ]
          },
          "metadata": {},
          "execution_count": 59
        }
      ]
    },
    {
      "cell_type": "markdown",
      "metadata": {
        "id": "IXLE1x-a0J8C"
      },
      "source": [
        "7.which event is most popular in terms on number of players?(Top 5)"
      ],
      "id": "IXLE1x-a0J8C"
    },
    {
      "cell_type": "code",
      "metadata": {
        "id": "xoMpBqib0J8C",
        "outputId": "fea36289-e997-49ba-f6de-d716e9f4e3eb"
      },
      "source": [
        "df.groupby('Event').count()['Athlete'].sort_values(ascending=False).head().plot.bar(figsize=(8,5))"
      ],
      "id": "xoMpBqib0J8C",
      "execution_count": null,
      "outputs": [
        {
          "output_type": "execute_result",
          "data": {
            "text/plain": [
              "<AxesSubplot:xlabel='Event'>"
            ]
          },
          "metadata": {},
          "execution_count": 23
        },
        {
          "output_type": "display_data",
          "data": {
            "text/plain": [
              "<Figure size 576x360 with 1 Axes>"
            ],
            "image/png": "[encoded data removed]"
          },
          "metadata": {
            "needs_background": "light"
          }
        }
      ]
    },
    {
      "cell_type": "markdown",
      "metadata": {
        "id": "tGo8t8uV0J8C"
      },
      "source": [
        "8.Which sport is having most female gold medalists?(Top 5)"
      ],
      "id": "tGo8t8uV0J8C"
    },
    {
      "cell_type": "code",
      "metadata": {
        "id": "gpcN4VWF0J8D",
        "outputId": "14f31ad8-49bc-475f-ed4e-d295f67aa81d"
      },
      "source": [
        "df2 = df[(df['Gender'] == 'Women') & (df['Medal'] == 'Gold')]\n",
        "print(df2.groupby('Sport').count()['Medal'].sort_values(ascending=False).head())\n",
        "df2.groupby('Sport').count()['Medal'].sort_values(ascending=False).head().plot.bar(figsize=(7,3))"
      ],
      "id": "gpcN4VWF0J8D",
      "execution_count": null,
      "outputs": [
        {
          "output_type": "stream",
          "name": "stdout",
          "text": [
            "Sport\n",
            "Aquatics      589\n",
            "Athletics     389\n",
            "Gymnastics    268\n",
            "Rowing        217\n",
            "Volleyball    166\n",
            "Name: Medal, dtype: int64\n"
          ]
        },
        {
          "output_type": "execute_result",
          "data": {
            "text/plain": [
              "<AxesSubplot:xlabel='Sport'>"
            ]
          },
          "metadata": {},
          "execution_count": 62
        },
        {
          "output_type": "display_data",
          "data": {
            "text/plain": [
              "<Figure size 504x216 with 1 Axes>"
            ],
            "image/png": "[encoded data removed]"
          },
          "metadata": {
            "needs_background": "light"
          }
        }
      ]
    }
  ]
}